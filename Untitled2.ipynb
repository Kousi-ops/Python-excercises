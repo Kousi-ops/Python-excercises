{
 "cells": [
  {
   "cell_type": "code",
   "execution_count": 18,
   "metadata": {
    "scrolled": true
   },
   "outputs": [
    {
     "name": "stdout",
     "output_type": "stream",
     "text": [
      "Enter your number45\n",
      "45 is a prime number\n",
      "45 is a prime number\n",
      "45 is a prime number\n",
      "45 is a prime number\n",
      "45 is a prime number\n",
      "45 is a prime number\n",
      "45 is a prime number\n",
      "45 is a prime number\n",
      "45 is a prime number\n",
      "45 is a prime number\n",
      "45 is a prime number\n",
      "45 is a prime number\n",
      "45 is a prime number\n",
      "45 is a prime number\n",
      "45 is a prime number\n",
      "45 is a prime number\n",
      "45 is a prime number\n",
      "45 is a prime number\n",
      "45 is a prime number\n",
      "45 is a prime number\n",
      "45 is a prime number\n",
      "45 is a prime number\n",
      "45 is a prime number\n",
      "45 is a prime number\n",
      "45 is a prime number\n",
      "45 is a prime number\n",
      "45 is a prime number\n",
      "45 is a prime number\n",
      "45 is a prime number\n",
      "45 is a prime number\n",
      "45 is a prime number\n",
      "45 is a prime number\n",
      "45 is a prime number\n",
      "45 is a prime number\n",
      "45 is a prime number\n",
      "45 is a prime number\n",
      "45 is a prime number\n",
      "45 is a prime number\n",
      "45 is a prime number\n",
      "45 is a prime number\n",
      "45 is a prime number\n",
      "45 is a prime number\n",
      "45 is a prime number\n"
     ]
    }
   ],
   "source": [
    "num = int(input(\"Enter your number\"))\n",
    "for i in range (2,num):\n",
    "    if num/2 ==0:\n",
    "        print(num, \"is not a prime number\")\n",
    "    else:\n",
    "        print(num, \"is a prime number\")\n",
    "        i=i+1"
   ]
  },
  {
   "cell_type": "code",
   "execution_count": null,
   "metadata": {},
   "outputs": [],
   "source": []
  },
  {
   "cell_type": "code",
   "execution_count": null,
   "metadata": {},
   "outputs": [],
   "source": []
  },
  {
   "cell_type": "code",
   "execution_count": null,
   "metadata": {},
   "outputs": [],
   "source": []
  },
  {
   "cell_type": "code",
   "execution_count": 28,
   "metadata": {},
   "outputs": [
    {
     "name": "stdout",
     "output_type": "stream",
     "text": [
      "Enter your number31\n",
      "31 is a prime number\n"
     ]
    }
   ],
   "source": [
    "num = int(input(\"Enter your number\"))\n",
    "for i in range (2,num):\n",
    "    if num%2 ==0:\n",
    "        print(num, \"is not a prime number\")\n",
    "        break\n",
    "    else:\n",
    "        print(num, \"is a prime number\")\n",
    "        break\n"
   ]
  },
  {
   "cell_type": "code",
   "execution_count": null,
   "metadata": {},
   "outputs": [],
   "source": []
  },
  {
   "cell_type": "code",
   "execution_count": 20,
   "metadata": {},
   "outputs": [
    {
     "data": {
      "text/plain": [
       "9"
      ]
     },
     "execution_count": 20,
     "metadata": {},
     "output_type": "execute_result"
    }
   ],
   "source": [
    "9\n"
   ]
  },
  {
   "cell_type": "code",
   "execution_count": null,
   "metadata": {},
   "outputs": [],
   "source": []
  },
  {
   "cell_type": "code",
   "execution_count": null,
   "metadata": {},
   "outputs": [],
   "source": []
  },
  {
   "cell_type": "code",
   "execution_count": null,
   "metadata": {},
   "outputs": [],
   "source": []
  },
  {
   "cell_type": "code",
   "execution_count": null,
   "metadata": {},
   "outputs": [],
   "source": []
  }
 ],
 "metadata": {
  "kernelspec": {
   "display_name": "Python 3",
   "language": "python",
   "name": "python3"
  },
  "language_info": {
   "codemirror_mode": {
    "name": "ipython",
    "version": 3
   },
   "file_extension": ".py",
   "mimetype": "text/x-python",
   "name": "python",
   "nbconvert_exporter": "python",
   "pygments_lexer": "ipython3",
   "version": "3.8.3"
  }
 },
 "nbformat": 4,
 "nbformat_minor": 4
}
